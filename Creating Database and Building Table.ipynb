{
 "cells": [
  {
   "cell_type": "code",
   "execution_count": 1,
   "id": "4eff4caa-1de5-4467-80b9-7fb14d872e5d",
   "metadata": {
    "tags": []
   },
   "outputs": [
    {
     "name": "stdout",
     "output_type": "stream",
     "text": [
      "Requirement already satisfied: psycopg2 in /Users/tanaporn/anaconda3/lib/python3.11/site-packages (2.9.9)\n"
     ]
    }
   ],
   "source": [
    "!pip install psycopg2"
   ]
  },
  {
   "cell_type": "code",
   "execution_count": 2,
   "id": "181bc475-24a6-4838-a6a9-3803f9bef9be",
   "metadata": {
    "tags": []
   },
   "outputs": [],
   "source": [
    "import psycopg2"
   ]
  },
  {
   "cell_type": "code",
   "execution_count": 4,
   "id": "a2605f27-2403-4579-aa59-8af922dff45d",
   "metadata": {
    "tags": []
   },
   "outputs": [],
   "source": [
    "try:\n",
    "    conn = psycopg2.connect('host=127.0.0.1 dbname=postgres user=postgres password=Tana100745')\n",
    "except psycopg2.Error as e: \n",
    "    print ('Error : Could not make connection to the Postgress Database')\n",
    "    print(e)"
   ]
  },
  {
   "cell_type": "code",
   "execution_count": 5,
   "id": "88ae94ba-fa3f-46aa-939c-addf36d1f044",
   "metadata": {
    "tags": []
   },
   "outputs": [],
   "source": [
    "try: \n",
    "    cur = conn.cursor()\n",
    "except psycopg2.Error as e:\n",
    "    print('Error: Could not get curser to the Database')\n",
    "    print(e)"
   ]
  },
  {
   "cell_type": "code",
   "execution_count": 6,
   "id": "21cfcd7e-439b-401f-a9f2-76e441f73c8b",
   "metadata": {
    "tags": []
   },
   "outputs": [],
   "source": [
    "conn.set_session(autocommit=True)"
   ]
  },
  {
   "cell_type": "code",
   "execution_count": 8,
   "id": "e46a902b-d387-4f95-93f7-0626cd028565",
   "metadata": {
    "tags": []
   },
   "outputs": [],
   "source": [
    "#create a database to do the work in"
   ]
  },
  {
   "cell_type": "code",
   "execution_count": 9,
   "id": "9704cd77-b549-4509-a727-1a1c3d94fb3f",
   "metadata": {
    "tags": []
   },
   "outputs": [
    {
     "name": "stdout",
     "output_type": "stream",
     "text": [
      "database \"tanadb\" already exists\n",
      "\n"
     ]
    }
   ],
   "source": [
    "try:\n",
    "    cur.execute('create database TanaDB')\n",
    "except psycopg2.Error as e:\n",
    "    print(e)"
   ]
  },
  {
   "cell_type": "code",
   "execution_count": 12,
   "id": "7977a2a2-4474-4cd0-bfe9-01456b15e4c7",
   "metadata": {
    "tags": []
   },
   "outputs": [],
   "source": [
    "try:\n",
    "    conn.close()\n",
    "except psycopg2.Error as e:\n",
    "    print(e)\n",
    "\n",
    "try: \n",
    "    conn = psycopg2.connect('host=127.0.0.1 dbname=tanadb user=postgres password=Tana100745')\n",
    "except psycopg2.Error as e:\n",
    "    print('Error: Could not make connection to the Postgres database')\n",
    "    print(e)\n",
    "    \n",
    "try: \n",
    "    cur = conn.cursor()\n",
    "except psycopg2.Error as e:\n",
    "    print('Error: could not get curser to Database')\n",
    "    print(e)\n",
    "    \n",
    "conn.set_session(autocommit = True)"
   ]
  },
  {
   "cell_type": "code",
   "execution_count": 13,
   "id": "60771e74-9bdc-4143-9a95-89073fee09ed",
   "metadata": {
    "tags": []
   },
   "outputs": [],
   "source": [
    "# creat table for student which include columns: student_id, name, age, gender, subject,marks"
   ]
  },
  {
   "cell_type": "code",
   "execution_count": 14,
   "id": "c3662e3d-385e-49e4-9477-7ddf1ea2a063",
   "metadata": {
    "tags": []
   },
   "outputs": [],
   "source": [
    "try: \n",
    "    cur.execute('CREATE TABLE IF NOT EXISTS students (student_id int, name varchar, \\\n",
    "    age int, gender varchar, subject varchar, marks int);')\n",
    "except psycopg2.Error as e:\n",
    "    print('Error: Issue creating table')\n",
    "    print(e)"
   ]
  },
  {
   "cell_type": "code",
   "execution_count": 16,
   "id": "8228d2fe-5e38-4137-a53a-53d70370c365",
   "metadata": {
    "tags": []
   },
   "outputs": [],
   "source": [
    "# \\c tanadb\n",
    "#You are now connected to database \"tanadb\" as user \"postgres\".\n",
    "#tanadb-# \\dt  (show all table in the current schema)\n",
    "#          List of relations\n",
    "# Schema |   Name   | Type  |  Owner   \n",
    "#--------+----------+-------+----------\n",
    "# public | students | table | postgres\n",
    "#(1 row)\n"
   ]
  },
  {
   "cell_type": "code",
   "execution_count": 18,
   "id": "3500bcf9-97db-4e4a-a9a7-771dbd8daf6c",
   "metadata": {
    "tags": []
   },
   "outputs": [],
   "source": [
    "try:\n",
    "    cur.execute('INSERT INTO students(student_id, name, age, gender, subject, marks)\\\n",
    "                VALUES(%s, %s, %s, %s, %s, %s)' ,\\\n",
    "                (1, \"Raj\", 23, \"Male\", \"Python\", 85))\n",
    "except psycopg2.Error as e:\n",
    "                print('Error: Inserting Rows')\n",
    "                print(e)\n",
    "                \n",
    "try:\n",
    "    cur.execute('INSERT INTO students(student_id, name, age, gender, subject, marks)\\\n",
    "                VALUES(%s, %s, %s, %s, %s, %s)' ,\\\n",
    "                (2, \"Priya\", 22, \"Female\", \"Python\", 86))\n",
    "except psycopg2.Error as e:\n",
    "                print('Error: Inserting Rows')\n",
    "                print(e)"
   ]
  },
  {
   "cell_type": "code",
   "execution_count": 20,
   "id": "78564b18-6299-405f-8f06-e5ef90553a9c",
   "metadata": {
    "tags": []
   },
   "outputs": [
    {
     "name": "stdout",
     "output_type": "stream",
     "text": [
      "(1, 'Raj', 23, 'Male', 'Python', 85)\n",
      "(2, 'Priya', 22, 'Female', 'Python', 86)\n"
     ]
    }
   ],
   "source": [
    "try: \n",
    "    cur.execute('SELECT * FROM students;')\n",
    "except psycopg2.Error as e:\n",
    "    print('Error: select *')\n",
    "    print(e)\n",
    "\n",
    "    \n",
    "row = cur.fetchone()\n",
    "if row:\n",
    "    while row:\n",
    "        print(row)\n",
    "        row = cur.fetchone()\n",
    "else:\n",
    "    print(\"No results to fetch.\")"
   ]
  },
  {
   "cell_type": "code",
   "execution_count": 21,
   "id": "efca7315-f0db-467c-bdc0-5e84c9279d58",
   "metadata": {
    "tags": []
   },
   "outputs": [],
   "source": [
    "cur.close()\n",
    "conn.close()"
   ]
  },
  {
   "cell_type": "code",
   "execution_count": null,
   "id": "25b67fb7-1691-477e-88ca-bd9b7b849c84",
   "metadata": {},
   "outputs": [],
   "source": []
  }
 ],
 "metadata": {
  "kernelspec": {
   "display_name": "Python 3 (ipykernel)",
   "language": "python",
   "name": "python3"
  },
  "language_info": {
   "codemirror_mode": {
    "name": "ipython",
    "version": 3
   },
   "file_extension": ".py",
   "mimetype": "text/x-python",
   "name": "python",
   "nbconvert_exporter": "python",
   "pygments_lexer": "ipython3",
   "version": "3.11.4"
  }
 },
 "nbformat": 4,
 "nbformat_minor": 5
}
