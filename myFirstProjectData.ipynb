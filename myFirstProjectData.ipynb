{
 "cells": [
  {
   "cell_type": "code",
   "execution_count": 1,
   "id": "1fb1ba51-661d-42c7-90db-8e583f12b134",
   "metadata": {
    "tags": []
   },
   "outputs": [],
   "source": [
    "import psycopg2\n",
    "import pandas as pd"
   ]
  },
  {
   "cell_type": "code",
   "execution_count": 49,
   "id": "081f471c-c170-409d-9121-513a667c6314",
   "metadata": {
    "tags": []
   },
   "outputs": [],
   "source": [
    "def create_database():\n",
    "    #connect to default database\n",
    "    #conn = psycopg2.connect('host =127.0.0.1 dbname=postgres user=postgres password=student')\n",
    "    conn = psycopg2.connect('host = 127.0.0.1 dbname=postgres user=postgres password=Tana100745')\n",
    "    conn.set_session(autocommit=True)\n",
    "    cur = conn.cursor()\n",
    "    \n",
    "    #create sparkify database with UTF8 encoding\n",
    "    cur.execute('DROP DATABASE accounts')\n",
    "    cur.execute('CREATE DATABASE accounts')\n",
    "    \n",
    "    #close connection to default database\n",
    "    conn.close()\n",
    "    \n",
    "    #connect to sparkify database\n",
    "    conn = psycopg2.connect('host=127.0.0.1 dbname=accounts user=postgres password=Tana100745')\n",
    "    cur = conn.cursor()\n",
    "    \n",
    "    return cur, conn"
   ]
  },
  {
   "cell_type": "code",
   "execution_count": 50,
   "id": "e2670184-1587-43f1-9f97-9e6b599ddbb2",
   "metadata": {
    "tags": []
   },
   "outputs": [],
   "source": [
    "def drop_tables(cur, conn):\n",
    "    for query in drop_table_quries:\n",
    "        cur.execute(query)\n",
    "        conn.commit()"
   ]
  },
  {
   "cell_type": "code",
   "execution_count": 51,
   "id": "b736bce0-654b-4644-8a1f-a80624ccd818",
   "metadata": {
    "tags": []
   },
   "outputs": [],
   "source": [
    "def create_tables(cur, conn):\n",
    "    for query in create_table_quries:\n",
    "        cur.execute(query)\n",
    "        conn.commit()"
   ]
  },
  {
   "cell_type": "code",
   "execution_count": 52,
   "id": "499ff3cb-0250-474b-84b1-d2ec6bcd5786",
   "metadata": {
    "tags": []
   },
   "outputs": [],
   "source": [
    "ShoppingBehave = pd.read_csv('data/shopping_behavior_updated.csv')"
   ]
  },
  {
   "cell_type": "code",
   "execution_count": 53,
   "id": "c2105500-33b7-4ac3-ba08-190e8032fa21",
   "metadata": {
    "tags": []
   },
   "outputs": [
    {
     "data": {
      "text/html": [
       "<div>\n",
       "<style scoped>\n",
       "    .dataframe tbody tr th:only-of-type {\n",
       "        vertical-align: middle;\n",
       "    }\n",
       "\n",
       "    .dataframe tbody tr th {\n",
       "        vertical-align: top;\n",
       "    }\n",
       "\n",
       "    .dataframe thead th {\n",
       "        text-align: right;\n",
       "    }\n",
       "</style>\n",
       "<table border=\"1\" class=\"dataframe\">\n",
       "  <thead>\n",
       "    <tr style=\"text-align: right;\">\n",
       "      <th></th>\n",
       "      <th>Customer ID</th>\n",
       "      <th>Age</th>\n",
       "      <th>Gender</th>\n",
       "      <th>Item Purchased</th>\n",
       "      <th>Category</th>\n",
       "      <th>Purchase Amount (USD)</th>\n",
       "      <th>Location</th>\n",
       "      <th>Size</th>\n",
       "      <th>Color</th>\n",
       "      <th>Season</th>\n",
       "      <th>Review Rating</th>\n",
       "      <th>Subscription Status</th>\n",
       "      <th>Shipping Type</th>\n",
       "      <th>Discount Applied</th>\n",
       "      <th>Promo Code Used</th>\n",
       "      <th>Previous Purchases</th>\n",
       "      <th>Payment Method</th>\n",
       "      <th>Frequency of Purchases</th>\n",
       "    </tr>\n",
       "  </thead>\n",
       "  <tbody>\n",
       "    <tr>\n",
       "      <th>0</th>\n",
       "      <td>1</td>\n",
       "      <td>55</td>\n",
       "      <td>Male</td>\n",
       "      <td>Blouse</td>\n",
       "      <td>Clothing</td>\n",
       "      <td>53</td>\n",
       "      <td>Kentucky</td>\n",
       "      <td>L</td>\n",
       "      <td>Gray</td>\n",
       "      <td>Winter</td>\n",
       "      <td>3.1</td>\n",
       "      <td>Yes</td>\n",
       "      <td>Express</td>\n",
       "      <td>Yes</td>\n",
       "      <td>Yes</td>\n",
       "      <td>14</td>\n",
       "      <td>Venmo</td>\n",
       "      <td>Fortnightly</td>\n",
       "    </tr>\n",
       "    <tr>\n",
       "      <th>1</th>\n",
       "      <td>2</td>\n",
       "      <td>19</td>\n",
       "      <td>Male</td>\n",
       "      <td>Sweater</td>\n",
       "      <td>Clothing</td>\n",
       "      <td>64</td>\n",
       "      <td>Maine</td>\n",
       "      <td>L</td>\n",
       "      <td>Maroon</td>\n",
       "      <td>Winter</td>\n",
       "      <td>3.1</td>\n",
       "      <td>Yes</td>\n",
       "      <td>Express</td>\n",
       "      <td>Yes</td>\n",
       "      <td>Yes</td>\n",
       "      <td>2</td>\n",
       "      <td>Cash</td>\n",
       "      <td>Fortnightly</td>\n",
       "    </tr>\n",
       "    <tr>\n",
       "      <th>2</th>\n",
       "      <td>3</td>\n",
       "      <td>50</td>\n",
       "      <td>Male</td>\n",
       "      <td>Jeans</td>\n",
       "      <td>Clothing</td>\n",
       "      <td>73</td>\n",
       "      <td>Massachusetts</td>\n",
       "      <td>S</td>\n",
       "      <td>Maroon</td>\n",
       "      <td>Spring</td>\n",
       "      <td>3.1</td>\n",
       "      <td>Yes</td>\n",
       "      <td>Free Shipping</td>\n",
       "      <td>Yes</td>\n",
       "      <td>Yes</td>\n",
       "      <td>23</td>\n",
       "      <td>Credit Card</td>\n",
       "      <td>Weekly</td>\n",
       "    </tr>\n",
       "    <tr>\n",
       "      <th>3</th>\n",
       "      <td>4</td>\n",
       "      <td>21</td>\n",
       "      <td>Male</td>\n",
       "      <td>Sandals</td>\n",
       "      <td>Footwear</td>\n",
       "      <td>90</td>\n",
       "      <td>Rhode Island</td>\n",
       "      <td>M</td>\n",
       "      <td>Maroon</td>\n",
       "      <td>Spring</td>\n",
       "      <td>3.5</td>\n",
       "      <td>Yes</td>\n",
       "      <td>Next Day Air</td>\n",
       "      <td>Yes</td>\n",
       "      <td>Yes</td>\n",
       "      <td>49</td>\n",
       "      <td>PayPal</td>\n",
       "      <td>Weekly</td>\n",
       "    </tr>\n",
       "    <tr>\n",
       "      <th>4</th>\n",
       "      <td>5</td>\n",
       "      <td>45</td>\n",
       "      <td>Male</td>\n",
       "      <td>Blouse</td>\n",
       "      <td>Clothing</td>\n",
       "      <td>49</td>\n",
       "      <td>Oregon</td>\n",
       "      <td>M</td>\n",
       "      <td>Turquoise</td>\n",
       "      <td>Spring</td>\n",
       "      <td>2.7</td>\n",
       "      <td>Yes</td>\n",
       "      <td>Free Shipping</td>\n",
       "      <td>Yes</td>\n",
       "      <td>Yes</td>\n",
       "      <td>31</td>\n",
       "      <td>PayPal</td>\n",
       "      <td>Annually</td>\n",
       "    </tr>\n",
       "  </tbody>\n",
       "</table>\n",
       "</div>"
      ],
      "text/plain": [
       "   Customer ID  Age Gender Item Purchased  Category  Purchase Amount (USD)  \\\n",
       "0            1   55   Male         Blouse  Clothing                     53   \n",
       "1            2   19   Male        Sweater  Clothing                     64   \n",
       "2            3   50   Male          Jeans  Clothing                     73   \n",
       "3            4   21   Male        Sandals  Footwear                     90   \n",
       "4            5   45   Male         Blouse  Clothing                     49   \n",
       "\n",
       "        Location Size      Color  Season  Review Rating Subscription Status  \\\n",
       "0       Kentucky    L       Gray  Winter            3.1                 Yes   \n",
       "1          Maine    L     Maroon  Winter            3.1                 Yes   \n",
       "2  Massachusetts    S     Maroon  Spring            3.1                 Yes   \n",
       "3   Rhode Island    M     Maroon  Spring            3.5                 Yes   \n",
       "4         Oregon    M  Turquoise  Spring            2.7                 Yes   \n",
       "\n",
       "   Shipping Type Discount Applied Promo Code Used  Previous Purchases  \\\n",
       "0        Express              Yes             Yes                  14   \n",
       "1        Express              Yes             Yes                   2   \n",
       "2  Free Shipping              Yes             Yes                  23   \n",
       "3   Next Day Air              Yes             Yes                  49   \n",
       "4  Free Shipping              Yes             Yes                  31   \n",
       "\n",
       "  Payment Method Frequency of Purchases  \n",
       "0          Venmo            Fortnightly  \n",
       "1           Cash            Fortnightly  \n",
       "2    Credit Card                 Weekly  \n",
       "3         PayPal                 Weekly  \n",
       "4         PayPal               Annually  "
      ]
     },
     "execution_count": 53,
     "metadata": {},
     "output_type": "execute_result"
    }
   ],
   "source": [
    "ShoppingBehave.head()"
   ]
  },
  {
   "cell_type": "code",
   "execution_count": 54,
   "id": "3e0bae15-5b30-4d49-9e1d-9e165eb1330c",
   "metadata": {
    "tags": []
   },
   "outputs": [
    {
     "data": {
      "text/plain": [
       "Index(['Customer ID', 'Age', 'Gender', 'Item Purchased', 'Category',\n",
       "       'Purchase Amount (USD)', 'Location', 'Size', 'Color', 'Season',\n",
       "       'Review Rating', 'Subscription Status', 'Shipping Type',\n",
       "       'Discount Applied', 'Promo Code Used', 'Previous Purchases',\n",
       "       'Payment Method', 'Frequency of Purchases'],\n",
       "      dtype='object')"
      ]
     },
     "execution_count": 54,
     "metadata": {},
     "output_type": "execute_result"
    }
   ],
   "source": [
    "ShoppingBehave.columns"
   ]
  },
  {
   "cell_type": "code",
   "execution_count": 109,
   "id": "c450c383-cd19-4538-a632-9292a28f69f0",
   "metadata": {
    "tags": []
   },
   "outputs": [],
   "source": [
    "customer_data = ShoppingBehave[['Customer ID','Gender','Frequency of Purchases','Subscription Status',  'Age']]"
   ]
  },
  {
   "cell_type": "code",
   "execution_count": 110,
   "id": "a66d7f98-b16c-44e7-a03d-7218d337965b",
   "metadata": {
    "tags": []
   },
   "outputs": [],
   "source": [
    "product_data = ShoppingBehave[['Item Purchased','Category','Color', 'Size', 'Season', 'Review Rating']]"
   ]
  },
  {
   "cell_type": "code",
   "execution_count": 111,
   "id": "cecee5e8-ee9c-4d54-a82b-1dcb2907e530",
   "metadata": {
    "tags": []
   },
   "outputs": [],
   "source": [
    "purchase_data = ShoppingBehave[['Customer ID','Item Purchased','Purchase Amount (USD)','Location']]"
   ]
  },
  {
   "cell_type": "code",
   "execution_count": 55,
   "id": "19a2f84f-8890-4e76-a9b5-d637eef376cb",
   "metadata": {
    "tags": []
   },
   "outputs": [
    {
     "ename": "ObjectInUse",
     "evalue": "database \"accounts\" is being accessed by other users\nDETAIL:  There are 2 other sessions using the database.\n",
     "output_type": "error",
     "traceback": [
      "\u001b[0;31m---------------------------------------------------------------------------\u001b[0m",
      "\u001b[0;31mObjectInUse\u001b[0m                               Traceback (most recent call last)",
      "Cell \u001b[0;32mIn[55], line 1\u001b[0m\n\u001b[0;32m----> 1\u001b[0m cur, conn \u001b[38;5;241m=\u001b[39m create_database()\n",
      "Cell \u001b[0;32mIn[49], line 9\u001b[0m, in \u001b[0;36mcreate_database\u001b[0;34m()\u001b[0m\n\u001b[1;32m      6\u001b[0m cur \u001b[38;5;241m=\u001b[39m conn\u001b[38;5;241m.\u001b[39mcursor()\n\u001b[1;32m      8\u001b[0m \u001b[38;5;66;03m#create sparkify database with UTF8 encoding\u001b[39;00m\n\u001b[0;32m----> 9\u001b[0m cur\u001b[38;5;241m.\u001b[39mexecute(\u001b[38;5;124m'\u001b[39m\u001b[38;5;124mDROP DATABASE accounts\u001b[39m\u001b[38;5;124m'\u001b[39m)\n\u001b[1;32m     10\u001b[0m cur\u001b[38;5;241m.\u001b[39mexecute(\u001b[38;5;124m'\u001b[39m\u001b[38;5;124mCREATE DATABASE accounts\u001b[39m\u001b[38;5;124m'\u001b[39m)\n\u001b[1;32m     12\u001b[0m \u001b[38;5;66;03m#close connection to default database\u001b[39;00m\n",
      "\u001b[0;31mObjectInUse\u001b[0m: database \"accounts\" is being accessed by other users\nDETAIL:  There are 2 other sessions using the database.\n"
     ]
    }
   ],
   "source": [
    "cur, conn = create_database()"
   ]
  },
  {
   "cell_type": "code",
   "execution_count": 77,
   "id": "2459c69c-63a3-423f-b4c9-ca01b2110ed5",
   "metadata": {
    "tags": []
   },
   "outputs": [],
   "source": [
    "customer_table_create = (\"\"\"CREATE TABLE IF NOT EXISTS customer(\n",
    "    customer_id VARCHAR PRIMARY KEY,\n",
    "    gender VARCHAR,\n",
    "    freq_purchases VARCHAR,\n",
    "    sup_status VARCHAR\n",
    "    )\"\"\")"
   ]
  },
  {
   "cell_type": "code",
   "execution_count": 78,
   "id": "0734aa65-3f49-4f85-8123-496800468698",
   "metadata": {
    "tags": []
   },
   "outputs": [],
   "source": [
    "cur.execute(customer_table_create)\n",
    "conn.commit()"
   ]
  },
  {
   "cell_type": "code",
   "execution_count": 76,
   "id": "7b3de8e3-6b13-4e79-bff2-d9c6485cc04c",
   "metadata": {
    "tags": []
   },
   "outputs": [],
   "source": [
    "conn.rollback()"
   ]
  },
  {
   "cell_type": "code",
   "execution_count": 62,
   "id": "e3cc4769-6497-4a24-bb79-6f3e0a01eb16",
   "metadata": {
    "tags": []
   },
   "outputs": [],
   "source": [
    "conn = psycopg2.connect('host=127.0.0.1 dbname=accounts user=postgres password=Tana100745')\n",
    "cur = conn.cursor()"
   ]
  },
  {
   "cell_type": "code",
   "execution_count": 74,
   "id": "68c87cdb-487b-40df-9c66-5ac1aa89e8f5",
   "metadata": {
    "tags": []
   },
   "outputs": [],
   "source": [
    "customer_table_create = \"\"\"CREATE TABLE IF NOT EXISTS customer(\n",
    "    customer_id VARCHAR PRIMARY KEY,\n",
    "    gender VARCHAR,\n",
    "    freq_purchases VARCHAR,\n",
    "    sup_status VARCHAR\n",
    ")\"\"\""
   ]
  },
  {
   "cell_type": "code",
   "execution_count": 68,
   "id": "e893ffc3-b011-4749-b958-31b1b31a09c6",
   "metadata": {
    "tags": []
   },
   "outputs": [],
   "source": [
    "cur.execute(customer_table_create)\n",
    "conn.commit()"
   ]
  },
  {
   "cell_type": "code",
   "execution_count": 65,
   "id": "191e3294-d4bd-4ddb-a472-a58bade29bb3",
   "metadata": {
    "tags": []
   },
   "outputs": [],
   "source": [
    "product_table_create = \"\"\"CREATE TABLE IF NOT EXISTS product(\n",
    "    item_purchases VARCHAR PRIMARY KEY, \n",
    "    category VARCHAR,\n",
    "    color VARCHAR,\n",
    "    size VARCHAR,\n",
    "    season VARCHAR,\n",
    "    review_rating VARCHAR\n",
    "    )\"\"\"\n",
    "cur.execute(product_table_create)\n",
    "conn.commit()"
   ]
  },
  {
   "cell_type": "code",
   "execution_count": 66,
   "id": "1b78bbad-1dea-4213-bccf-2e5202ef0fe1",
   "metadata": {
    "tags": []
   },
   "outputs": [],
   "source": [
    "purchase_table_create = \"\"\"CREATE TABLE IF NOT EXISTS purchase(\n",
    "    purchases_ID VARCHAR PRIMARY KEY,\n",
    "    customer_ID VARCHAR,\n",
    "    item_purchases VARCHAR,\n",
    "    purchases_amount VARCHAR,\n",
    "    location VARCHAR\n",
    "    )\"\"\"\n",
    "cur.execute(purchase_table_create)\n",
    "conn.commit()"
   ]
  },
  {
   "cell_type": "code",
   "execution_count": 80,
   "id": "a4fc18fd-9df0-4546-875c-1c72712edac7",
   "metadata": {
    "tags": []
   },
   "outputs": [],
   "source": [
    "add_age_column_query = \"\"\"\n",
    "ALTER TABLE customer\n",
    "ADD COLUMN age INTEGER;\n",
    "\"\"\""
   ]
  },
  {
   "cell_type": "code",
   "execution_count": 81,
   "id": "9ed2ab60-5089-427e-ac77-c31f5a9f7e44",
   "metadata": {
    "tags": []
   },
   "outputs": [],
   "source": [
    "cur.execute(add_age_column_query)\n",
    "conn.commit()"
   ]
  },
  {
   "cell_type": "code",
   "execution_count": 82,
   "id": "c6a85d20-e6d3-4666-a6c0-3f527f77e341",
   "metadata": {
    "tags": []
   },
   "outputs": [],
   "source": [
    "drop_old_table_query = \"DROP TABLE IF EXISTS purchase\"\n",
    "cur.execute(drop_old_table_query)\n",
    "conn.commit()"
   ]
  },
  {
   "cell_type": "code",
   "execution_count": 83,
   "id": "9a42e3af-305f-4f5f-a958-72372f014d2e",
   "metadata": {
    "tags": []
   },
   "outputs": [],
   "source": [
    "purchase_table_create = \"\"\"CREATE TABLE IF NOT EXISTS purchase(\n",
    "    purchases_ID SERIAL PRIMARY KEY,\n",
    "    customer_ID VARCHAR,\n",
    "    item_purchases VARCHAR,\n",
    "    purchases_amount VARCHAR,\n",
    "    location VARCHAR\n",
    "    )\"\"\"\n",
    "cur.execute(purchase_table_create)\n",
    "conn.commit()"
   ]
  },
  {
   "cell_type": "code",
   "execution_count": 86,
   "id": "6cab04f5-ac87-4827-a27f-b1de8465a479",
   "metadata": {
    "tags": []
   },
   "outputs": [],
   "source": [
    "customer_table_insert = \"\"\"INSERT INTO customer(\n",
    "    customer_id,\n",
    "    gender,\n",
    "    freq_purchases,\n",
    "    sup_status,\n",
    "    age)\n",
    "    VALUES(%s,%s,%s,%s,%s)\n",
    "    \"\"\""
   ]
  },
  {
   "cell_type": "code",
   "execution_count": 90,
   "id": "f9989590-893d-4bb0-bdf1-bdc71e77a408",
   "metadata": {
    "tags": []
   },
   "outputs": [
    {
     "ename": "InFailedSqlTransaction",
     "evalue": "current transaction is aborted, commands ignored until end of transaction block\n",
     "output_type": "error",
     "traceback": [
      "\u001b[0;31m---------------------------------------------------------------------------\u001b[0m",
      "\u001b[0;31mInFailedSqlTransaction\u001b[0m                    Traceback (most recent call last)",
      "Cell \u001b[0;32mIn[90], line 2\u001b[0m\n\u001b[1;32m      1\u001b[0m drop_customer_query \u001b[38;5;241m=\u001b[39m \u001b[38;5;124m\"\u001b[39m\u001b[38;5;124mDROP TABLE IF EXISTS customer\u001b[39m\u001b[38;5;124m\"\u001b[39m\n\u001b[0;32m----> 2\u001b[0m cur\u001b[38;5;241m.\u001b[39mexecute(drop_customer_query)\n\u001b[1;32m      3\u001b[0m conn\u001b[38;5;241m.\u001b[39mcommit()\n",
      "\u001b[0;31mInFailedSqlTransaction\u001b[0m: current transaction is aborted, commands ignored until end of transaction block\n"
     ]
    }
   ],
   "source": [
    "drop_customer_query = \"DROP TABLE IF EXISTS customer\"\n",
    "cur.execute(drop_customer_query)\n",
    "conn.commit()"
   ]
  },
  {
   "cell_type": "code",
   "execution_count": 88,
   "id": "81814dd6-b548-4e80-878c-4abcf31e046c",
   "metadata": {
    "tags": []
   },
   "outputs": [],
   "source": [
    "customer_table_create = \"\"\"CREATE TABLE IF NOT EXISTS customer(\n",
    "    customer_id VARCHAR PRIMARY KEY,\n",
    "    gender VARCHAR,\n",
    "    freq_purchases VARCHAR,\n",
    "    sup_status VARCHAR\n",
    "    age VARCHAR\n",
    ")\"\"\""
   ]
  },
  {
   "cell_type": "code",
   "execution_count": 91,
   "id": "33199fb5-0e52-4963-b614-933060b645ca",
   "metadata": {
    "tags": []
   },
   "outputs": [],
   "source": [
    "conn.rollback()"
   ]
  },
  {
   "cell_type": "code",
   "execution_count": 92,
   "id": "df26ca32-8f3c-4be4-8d90-d7c013d42c2f",
   "metadata": {
    "tags": []
   },
   "outputs": [],
   "source": [
    "# Drop the table 'customer'\n",
    "drop_customer_query = \"DROP TABLE IF EXISTS customer\"\n",
    "cur.execute(drop_customer_query)\n",
    "conn.commit()"
   ]
  },
  {
   "cell_type": "code",
   "execution_count": 95,
   "id": "ae9e6f95-d939-4cbe-8a98-7037efbb0af9",
   "metadata": {
    "tags": []
   },
   "outputs": [],
   "source": [
    "customer_table_create = \"\"\"CREATE TABLE IF NOT EXISTS customer(\n",
    "    customer_id VARCHAR PRIMARY KEY,\n",
    "    gender VARCHAR,\n",
    "    freq_purchases VARCHAR,\n",
    "    sup_status VARCHAR,\n",
    "    age VARCHAR\n",
    ")\"\"\""
   ]
  },
  {
   "cell_type": "code",
   "execution_count": 96,
   "id": "1c455985-d3f4-4722-b357-165a027942f9",
   "metadata": {
    "tags": []
   },
   "outputs": [
    {
     "ename": "InFailedSqlTransaction",
     "evalue": "current transaction is aborted, commands ignored until end of transaction block\n",
     "output_type": "error",
     "traceback": [
      "\u001b[0;31m---------------------------------------------------------------------------\u001b[0m",
      "\u001b[0;31mInFailedSqlTransaction\u001b[0m                    Traceback (most recent call last)",
      "Cell \u001b[0;32mIn[96], line 1\u001b[0m\n\u001b[0;32m----> 1\u001b[0m cur\u001b[38;5;241m.\u001b[39mexecute(customer_table_create)\n\u001b[1;32m      2\u001b[0m conn\u001b[38;5;241m.\u001b[39mcommit()\n",
      "\u001b[0;31mInFailedSqlTransaction\u001b[0m: current transaction is aborted, commands ignored until end of transaction block\n"
     ]
    }
   ],
   "source": [
    "cur.execute(customer_table_create)\n",
    "conn.commit()"
   ]
  },
  {
   "cell_type": "code",
   "execution_count": 97,
   "id": "4de437cf-7fc4-40a3-9879-c293a2b56a52",
   "metadata": {
    "tags": []
   },
   "outputs": [],
   "source": [
    "conn.rollback()"
   ]
  },
  {
   "cell_type": "code",
   "execution_count": 98,
   "id": "976521b1-9880-48ce-90d5-1558d84cfdfe",
   "metadata": {
    "tags": []
   },
   "outputs": [],
   "source": [
    "customer_table_create = \"\"\"CREATE TABLE IF NOT EXISTS customer(\n",
    "    customer_id VARCHAR PRIMARY KEY,\n",
    "    gender VARCHAR,\n",
    "    freq_purchases VARCHAR,\n",
    "    sup_status VARCHAR,\n",
    "    age VARCHAR\n",
    ")\"\"\"\n",
    "cur.execute(customer_table_create)\n",
    "conn.commit()"
   ]
  },
  {
   "cell_type": "code",
   "execution_count": 99,
   "id": "e0bb418d-287d-4645-8d16-92ef8dfb48d6",
   "metadata": {
    "tags": []
   },
   "outputs": [],
   "source": [
    "for i, row in customer_data.iterrows():\n",
    "    cur.execute(customer_table_insert,list(row))"
   ]
  },
  {
   "cell_type": "code",
   "execution_count": 100,
   "id": "631d8495-145d-4e64-b4f1-c69e7b073cfd",
   "metadata": {
    "tags": []
   },
   "outputs": [],
   "source": [
    "product_table_insert = \"\"\"INSERT INTO product(\n",
    "    item_purchases, \n",
    "    category,\n",
    "    color,\n",
    "    size,\n",
    "    season,\n",
    "    review_rating)\n",
    "    VALUES (%s,%s,%s,%s,%s,%s)\n",
    "    \"\"\""
   ]
  },
  {
   "cell_type": "code",
   "execution_count": 103,
   "id": "37acc994-1f56-41a8-bf5d-5c4ca0610a69",
   "metadata": {
    "tags": []
   },
   "outputs": [],
   "source": [
    "conn.rollback()"
   ]
  },
  {
   "cell_type": "code",
   "execution_count": 104,
   "id": "3c596363-abed-484c-b16b-0587189ba108",
   "metadata": {
    "tags": []
   },
   "outputs": [],
   "source": [
    "drop_product_query = \"DROP TABLE IF EXISTS product\"\n",
    "cur.execute(drop_product_query)\n",
    "conn.commit()"
   ]
  },
  {
   "cell_type": "code",
   "execution_count": 107,
   "id": "1fbf56e0-b7db-437f-a02c-5eddad20b4b2",
   "metadata": {
    "tags": []
   },
   "outputs": [],
   "source": [
    "conn.rollback()"
   ]
  },
  {
   "cell_type": "code",
   "execution_count": 108,
   "id": "c5179fc7-bf99-43ce-b474-3128729aecfe",
   "metadata": {
    "tags": []
   },
   "outputs": [],
   "source": [
    "product_table_create = \"\"\"CREATE TABLE IF NOT EXISTS product(\n",
    "    purchases_ID SERIAL PRIMARY KEY,\n",
    "    item_purchases VARCHAR, \n",
    "    category VARCHAR,\n",
    "    color VARCHAR,\n",
    "    size VARCHAR,\n",
    "    season VARCHAR,\n",
    "    review_rating VARCHAR\n",
    "    )\"\"\"\n",
    "cur.execute(product_table_create)\n",
    "conn.commit()"
   ]
  },
  {
   "cell_type": "code",
   "execution_count": null,
   "id": "61daa594-3278-4971-b816-1e1897d646d0",
   "metadata": {},
   "outputs": [],
   "source": [
    "product_table_insert = \"\"\"INSERT INTO product(\n",
    "    item_purchases, \n",
    "    category,\n",
    "    color,\n",
    "    size,\n",
    "    season,\n",
    "    review_rating)\n",
    "    VALUES (%s,%s,%s,%s,%s,%s)\n",
    "    \"\"\""
   ]
  },
  {
   "cell_type": "code",
   "execution_count": 112,
   "id": "313397de-8775-4189-9ac5-1e96d8efa8e2",
   "metadata": {
    "tags": []
   },
   "outputs": [
    {
     "data": {
      "text/html": [
       "<div>\n",
       "<style scoped>\n",
       "    .dataframe tbody tr th:only-of-type {\n",
       "        vertical-align: middle;\n",
       "    }\n",
       "\n",
       "    .dataframe tbody tr th {\n",
       "        vertical-align: top;\n",
       "    }\n",
       "\n",
       "    .dataframe thead th {\n",
       "        text-align: right;\n",
       "    }\n",
       "</style>\n",
       "<table border=\"1\" class=\"dataframe\">\n",
       "  <thead>\n",
       "    <tr style=\"text-align: right;\">\n",
       "      <th></th>\n",
       "      <th>Customer ID</th>\n",
       "      <th>Gender</th>\n",
       "      <th>Frequency of Purchases</th>\n",
       "      <th>Subscription Status</th>\n",
       "      <th>Age</th>\n",
       "    </tr>\n",
       "  </thead>\n",
       "  <tbody>\n",
       "    <tr>\n",
       "      <th>0</th>\n",
       "      <td>1</td>\n",
       "      <td>Male</td>\n",
       "      <td>Fortnightly</td>\n",
       "      <td>Yes</td>\n",
       "      <td>55</td>\n",
       "    </tr>\n",
       "    <tr>\n",
       "      <th>1</th>\n",
       "      <td>2</td>\n",
       "      <td>Male</td>\n",
       "      <td>Fortnightly</td>\n",
       "      <td>Yes</td>\n",
       "      <td>19</td>\n",
       "    </tr>\n",
       "    <tr>\n",
       "      <th>2</th>\n",
       "      <td>3</td>\n",
       "      <td>Male</td>\n",
       "      <td>Weekly</td>\n",
       "      <td>Yes</td>\n",
       "      <td>50</td>\n",
       "    </tr>\n",
       "    <tr>\n",
       "      <th>3</th>\n",
       "      <td>4</td>\n",
       "      <td>Male</td>\n",
       "      <td>Weekly</td>\n",
       "      <td>Yes</td>\n",
       "      <td>21</td>\n",
       "    </tr>\n",
       "    <tr>\n",
       "      <th>4</th>\n",
       "      <td>5</td>\n",
       "      <td>Male</td>\n",
       "      <td>Annually</td>\n",
       "      <td>Yes</td>\n",
       "      <td>45</td>\n",
       "    </tr>\n",
       "  </tbody>\n",
       "</table>\n",
       "</div>"
      ],
      "text/plain": [
       "   Customer ID Gender Frequency of Purchases Subscription Status  Age\n",
       "0            1   Male            Fortnightly                 Yes   55\n",
       "1            2   Male            Fortnightly                 Yes   19\n",
       "2            3   Male                 Weekly                 Yes   50\n",
       "3            4   Male                 Weekly                 Yes   21\n",
       "4            5   Male               Annually                 Yes   45"
      ]
     },
     "execution_count": 112,
     "metadata": {},
     "output_type": "execute_result"
    }
   ],
   "source": [
    "customer_data.head()"
   ]
  },
  {
   "cell_type": "code",
   "execution_count": 113,
   "id": "021a4f0b-c82d-423c-b67c-fabea991f140",
   "metadata": {
    "tags": []
   },
   "outputs": [
    {
     "data": {
      "text/html": [
       "<div>\n",
       "<style scoped>\n",
       "    .dataframe tbody tr th:only-of-type {\n",
       "        vertical-align: middle;\n",
       "    }\n",
       "\n",
       "    .dataframe tbody tr th {\n",
       "        vertical-align: top;\n",
       "    }\n",
       "\n",
       "    .dataframe thead th {\n",
       "        text-align: right;\n",
       "    }\n",
       "</style>\n",
       "<table border=\"1\" class=\"dataframe\">\n",
       "  <thead>\n",
       "    <tr style=\"text-align: right;\">\n",
       "      <th></th>\n",
       "      <th>Item Purchased</th>\n",
       "      <th>Category</th>\n",
       "      <th>Color</th>\n",
       "      <th>Size</th>\n",
       "      <th>Season</th>\n",
       "      <th>Review Rating</th>\n",
       "    </tr>\n",
       "  </thead>\n",
       "  <tbody>\n",
       "    <tr>\n",
       "      <th>0</th>\n",
       "      <td>Blouse</td>\n",
       "      <td>Clothing</td>\n",
       "      <td>Gray</td>\n",
       "      <td>L</td>\n",
       "      <td>Winter</td>\n",
       "      <td>3.1</td>\n",
       "    </tr>\n",
       "    <tr>\n",
       "      <th>1</th>\n",
       "      <td>Sweater</td>\n",
       "      <td>Clothing</td>\n",
       "      <td>Maroon</td>\n",
       "      <td>L</td>\n",
       "      <td>Winter</td>\n",
       "      <td>3.1</td>\n",
       "    </tr>\n",
       "    <tr>\n",
       "      <th>2</th>\n",
       "      <td>Jeans</td>\n",
       "      <td>Clothing</td>\n",
       "      <td>Maroon</td>\n",
       "      <td>S</td>\n",
       "      <td>Spring</td>\n",
       "      <td>3.1</td>\n",
       "    </tr>\n",
       "    <tr>\n",
       "      <th>3</th>\n",
       "      <td>Sandals</td>\n",
       "      <td>Footwear</td>\n",
       "      <td>Maroon</td>\n",
       "      <td>M</td>\n",
       "      <td>Spring</td>\n",
       "      <td>3.5</td>\n",
       "    </tr>\n",
       "    <tr>\n",
       "      <th>4</th>\n",
       "      <td>Blouse</td>\n",
       "      <td>Clothing</td>\n",
       "      <td>Turquoise</td>\n",
       "      <td>M</td>\n",
       "      <td>Spring</td>\n",
       "      <td>2.7</td>\n",
       "    </tr>\n",
       "  </tbody>\n",
       "</table>\n",
       "</div>"
      ],
      "text/plain": [
       "  Item Purchased  Category      Color Size  Season  Review Rating\n",
       "0         Blouse  Clothing       Gray    L  Winter            3.1\n",
       "1        Sweater  Clothing     Maroon    L  Winter            3.1\n",
       "2          Jeans  Clothing     Maroon    S  Spring            3.1\n",
       "3        Sandals  Footwear     Maroon    M  Spring            3.5\n",
       "4         Blouse  Clothing  Turquoise    M  Spring            2.7"
      ]
     },
     "execution_count": 113,
     "metadata": {},
     "output_type": "execute_result"
    }
   ],
   "source": [
    "product_data.head()"
   ]
  },
  {
   "cell_type": "code",
   "execution_count": 114,
   "id": "9a264154-b04e-40c0-8b88-3e71a7a4c414",
   "metadata": {
    "tags": []
   },
   "outputs": [
    {
     "data": {
      "text/html": [
       "<div>\n",
       "<style scoped>\n",
       "    .dataframe tbody tr th:only-of-type {\n",
       "        vertical-align: middle;\n",
       "    }\n",
       "\n",
       "    .dataframe tbody tr th {\n",
       "        vertical-align: top;\n",
       "    }\n",
       "\n",
       "    .dataframe thead th {\n",
       "        text-align: right;\n",
       "    }\n",
       "</style>\n",
       "<table border=\"1\" class=\"dataframe\">\n",
       "  <thead>\n",
       "    <tr style=\"text-align: right;\">\n",
       "      <th></th>\n",
       "      <th>Customer ID</th>\n",
       "      <th>Item Purchased</th>\n",
       "      <th>Purchase Amount (USD)</th>\n",
       "      <th>Location</th>\n",
       "    </tr>\n",
       "  </thead>\n",
       "  <tbody>\n",
       "    <tr>\n",
       "      <th>0</th>\n",
       "      <td>1</td>\n",
       "      <td>Blouse</td>\n",
       "      <td>53</td>\n",
       "      <td>Kentucky</td>\n",
       "    </tr>\n",
       "    <tr>\n",
       "      <th>1</th>\n",
       "      <td>2</td>\n",
       "      <td>Sweater</td>\n",
       "      <td>64</td>\n",
       "      <td>Maine</td>\n",
       "    </tr>\n",
       "    <tr>\n",
       "      <th>2</th>\n",
       "      <td>3</td>\n",
       "      <td>Jeans</td>\n",
       "      <td>73</td>\n",
       "      <td>Massachusetts</td>\n",
       "    </tr>\n",
       "    <tr>\n",
       "      <th>3</th>\n",
       "      <td>4</td>\n",
       "      <td>Sandals</td>\n",
       "      <td>90</td>\n",
       "      <td>Rhode Island</td>\n",
       "    </tr>\n",
       "    <tr>\n",
       "      <th>4</th>\n",
       "      <td>5</td>\n",
       "      <td>Blouse</td>\n",
       "      <td>49</td>\n",
       "      <td>Oregon</td>\n",
       "    </tr>\n",
       "  </tbody>\n",
       "</table>\n",
       "</div>"
      ],
      "text/plain": [
       "   Customer ID Item Purchased  Purchase Amount (USD)       Location\n",
       "0            1         Blouse                     53       Kentucky\n",
       "1            2        Sweater                     64          Maine\n",
       "2            3          Jeans                     73  Massachusetts\n",
       "3            4        Sandals                     90   Rhode Island\n",
       "4            5         Blouse                     49         Oregon"
      ]
     },
     "execution_count": 114,
     "metadata": {},
     "output_type": "execute_result"
    }
   ],
   "source": [
    "purchase_data.head()"
   ]
  },
  {
   "cell_type": "code",
   "execution_count": 115,
   "id": "2aadc713-1ca7-4e95-9094-2df667ce23cf",
   "metadata": {
    "tags": []
   },
   "outputs": [],
   "source": [
    "customer_table_insert = \"\"\"INSERT INTO customer(\n",
    "    customer_id,\n",
    "    gender,\n",
    "    freq_purchases,\n",
    "    sup_status,\n",
    "    age)\n",
    "    VALUES(%s,%s,%s,%s,%s)\n",
    "    \"\"\""
   ]
  },
  {
   "cell_type": "code",
   "execution_count": 116,
   "id": "cd0c8009-bb4c-4f15-b1be-9a9a30a55d1a",
   "metadata": {
    "tags": []
   },
   "outputs": [],
   "source": [
    "for i, row in customer_data.iterrows():\n",
    "    cur.execute(customer_table_insert,list(row))"
   ]
  },
  {
   "cell_type": "code",
   "execution_count": 117,
   "id": "aeda5e97-3ce0-4ca7-b703-5a3d85713a84",
   "metadata": {
    "tags": []
   },
   "outputs": [],
   "source": [
    "conn.commit()"
   ]
  },
  {
   "cell_type": "code",
   "execution_count": 118,
   "id": "4522182f-2e89-40e6-b633-e08050800b53",
   "metadata": {
    "tags": []
   },
   "outputs": [],
   "source": [
    "product_table_insert = \"\"\"INSERT INTO product(\n",
    "    item_purchases, \n",
    "    category,\n",
    "    color,\n",
    "    size,\n",
    "    season,\n",
    "    review_rating)\n",
    "    VALUES (%s,%s,%s,%s,%s,%s)\n",
    "    \"\"\""
   ]
  },
  {
   "cell_type": "code",
   "execution_count": 119,
   "id": "2e76384e-de99-48ac-bc1d-d27746fa5e6c",
   "metadata": {
    "tags": []
   },
   "outputs": [],
   "source": [
    "for i, row in product_data.iterrows():\n",
    "    cur.execute(product_table_insert,list(row))"
   ]
  },
  {
   "cell_type": "code",
   "execution_count": 120,
   "id": "cce6102b-998d-42bd-967b-499937b8fd83",
   "metadata": {
    "tags": []
   },
   "outputs": [],
   "source": [
    "conn.commit()"
   ]
  },
  {
   "cell_type": "code",
   "execution_count": 121,
   "id": "cacace40-9595-4fca-a749-d55a16700e59",
   "metadata": {
    "tags": []
   },
   "outputs": [],
   "source": [
    "purchase_table_insert = \"\"\"INSERT INTO purchase(\n",
    "    customer_ID,\n",
    "    item_purchases,\n",
    "    purchases_amount,\n",
    "    location)\n",
    "    VALUES (%s,%s,%s,%s)\n",
    "    \"\"\""
   ]
  },
  {
   "cell_type": "code",
   "execution_count": 124,
   "id": "9269ea9f-c9b5-476b-a822-b8d62c84b58e",
   "metadata": {
    "tags": []
   },
   "outputs": [],
   "source": [
    "conn.rollback()"
   ]
  },
  {
   "cell_type": "code",
   "execution_count": 126,
   "id": "080ca3c4-a442-43b9-8fe0-4473d7974904",
   "metadata": {
    "tags": []
   },
   "outputs": [],
   "source": [
    "purchase_table_insert = \"\"\"\n",
    "    INSERT INTO purchase (customer_ID, item_purchases, purchases_amount, location)\n",
    "    VALUES (%s, %s, %s, %s)\n",
    "\"\"\""
   ]
  },
  {
   "cell_type": "code",
   "execution_count": 127,
   "id": "2aa9afe3-f123-43e4-9f36-f9c50f0b1956",
   "metadata": {
    "tags": []
   },
   "outputs": [],
   "source": [
    "for i, row in purchase_data.iterrows():\n",
    "    # Extract the specific columns you need from the DataFrame\n",
    "    data = (row['Customer ID'], row['Item Purchased'], row['Purchase Amount (USD)'], row['Location'])\n",
    "    cur.execute(purchase_table_insert, data)"
   ]
  },
  {
   "cell_type": "code",
   "execution_count": 128,
   "id": "a4cd208e-9710-41f5-98d6-cf21529028ba",
   "metadata": {
    "tags": []
   },
   "outputs": [],
   "source": [
    "conn.commit()"
   ]
  },
  {
   "cell_type": "code",
   "execution_count": null,
   "id": "23725a04-ca1f-484c-9559-c5426a9f84a1",
   "metadata": {},
   "outputs": [],
   "source": []
  }
 ],
 "metadata": {
  "kernelspec": {
   "display_name": "Python 3 (ipykernel)",
   "language": "python",
   "name": "python3"
  },
  "language_info": {
   "codemirror_mode": {
    "name": "ipython",
    "version": 3
   },
   "file_extension": ".py",
   "mimetype": "text/x-python",
   "name": "python",
   "nbconvert_exporter": "python",
   "pygments_lexer": "ipython3",
   "version": "3.11.4"
  }
 },
 "nbformat": 4,
 "nbformat_minor": 5
}
